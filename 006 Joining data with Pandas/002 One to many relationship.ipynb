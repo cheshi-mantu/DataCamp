{
 "cells": [
  {
   "cell_type": "code",
   "execution_count": 1,
   "metadata": {},
   "outputs": [],
   "source": [
    "import pandas as pd"
   ]
  },
  {
   "cell_type": "code",
   "execution_count": 7,
   "metadata": {},
   "outputs": [],
   "source": [
    "cal = pd.read_pickle(\"datasets\\cta_calendar.p\")"
   ]
  },
  {
   "cell_type": "code",
   "execution_count": 5,
   "metadata": {},
   "outputs": [],
   "source": [
    "ridership = pd.read_pickle(\"datasets\\cta_ridership.p\")"
   ]
  },
  {
   "cell_type": "code",
   "execution_count": 6,
   "metadata": {},
   "outputs": [],
   "source": [
    "stations = pd.read_pickle(\"datasets\\stations.p\")"
   ]
  },
  {
   "cell_type": "code",
   "execution_count": 8,
   "metadata": {},
   "outputs": [],
   "source": [
    "# Merge the ridership, cal, and stations tables\n",
    "ridership_cal_stations = ridership.merge(cal, on=['year','month','day']).merge(stations, on=\"station_id\")"
   ]
  },
  {
   "cell_type": "markdown",
   "metadata": {},
   "source": [
    "## Total riders in a month\n",
    "Your goal is to find the total number of rides provided to passengers passing through the Wilson station (station_name == 'Wilson') when riding Chicago's public transportation system on weekdays (day_type == 'Weekday') in July (month == 7). Luckily, Chicago provides this detailed data, but it is in three different tables. You will work on merging these tables together to answer the question. This data is different from the business related data you have seen so far, but all the information you need to answer the question is below.\n",
    "\n",
    "The cal, ridership, and stations DataFrames have been loaded for you. The relationship between the tables can be seen in the diagram below."
   ]
  },
  {
   "cell_type": "code",
   "execution_count": 9,
   "metadata": {
    "scrolled": false
   },
   "outputs": [
    {
     "data": {
      "text/html": [
       "<div>\n",
       "<style scoped>\n",
       "    .dataframe tbody tr th:only-of-type {\n",
       "        vertical-align: middle;\n",
       "    }\n",
       "\n",
       "    .dataframe tbody tr th {\n",
       "        vertical-align: top;\n",
       "    }\n",
       "\n",
       "    .dataframe thead th {\n",
       "        text-align: right;\n",
       "    }\n",
       "</style>\n",
       "<table border=\"1\" class=\"dataframe\">\n",
       "  <thead>\n",
       "    <tr style=\"text-align: right;\">\n",
       "      <th></th>\n",
       "      <th>station_id</th>\n",
       "      <th>year</th>\n",
       "      <th>month</th>\n",
       "      <th>day</th>\n",
       "      <th>rides</th>\n",
       "      <th>day_type</th>\n",
       "      <th>station_name</th>\n",
       "      <th>location</th>\n",
       "    </tr>\n",
       "  </thead>\n",
       "  <tbody>\n",
       "    <tr>\n",
       "      <td>0</td>\n",
       "      <td>40010</td>\n",
       "      <td>2019</td>\n",
       "      <td>1</td>\n",
       "      <td>1</td>\n",
       "      <td>576</td>\n",
       "      <td>Sunday/Holiday</td>\n",
       "      <td>Austin-Forest Park</td>\n",
       "      <td>(41.870851, -87.776812)</td>\n",
       "    </tr>\n",
       "    <tr>\n",
       "      <td>1</td>\n",
       "      <td>40010</td>\n",
       "      <td>2019</td>\n",
       "      <td>1</td>\n",
       "      <td>2</td>\n",
       "      <td>1457</td>\n",
       "      <td>Weekday</td>\n",
       "      <td>Austin-Forest Park</td>\n",
       "      <td>(41.870851, -87.776812)</td>\n",
       "    </tr>\n",
       "    <tr>\n",
       "      <td>2</td>\n",
       "      <td>40010</td>\n",
       "      <td>2019</td>\n",
       "      <td>1</td>\n",
       "      <td>3</td>\n",
       "      <td>1543</td>\n",
       "      <td>Weekday</td>\n",
       "      <td>Austin-Forest Park</td>\n",
       "      <td>(41.870851, -87.776812)</td>\n",
       "    </tr>\n",
       "    <tr>\n",
       "      <td>3</td>\n",
       "      <td>40010</td>\n",
       "      <td>2019</td>\n",
       "      <td>1</td>\n",
       "      <td>4</td>\n",
       "      <td>1621</td>\n",
       "      <td>Weekday</td>\n",
       "      <td>Austin-Forest Park</td>\n",
       "      <td>(41.870851, -87.776812)</td>\n",
       "    </tr>\n",
       "    <tr>\n",
       "      <td>4</td>\n",
       "      <td>40010</td>\n",
       "      <td>2019</td>\n",
       "      <td>1</td>\n",
       "      <td>5</td>\n",
       "      <td>719</td>\n",
       "      <td>Saturday</td>\n",
       "      <td>Austin-Forest Park</td>\n",
       "      <td>(41.870851, -87.776812)</td>\n",
       "    </tr>\n",
       "  </tbody>\n",
       "</table>\n",
       "</div>"
      ],
      "text/plain": [
       "  station_id  year  month  day  rides        day_type        station_name  \\\n",
       "0      40010  2019      1    1    576  Sunday/Holiday  Austin-Forest Park   \n",
       "1      40010  2019      1    2   1457         Weekday  Austin-Forest Park   \n",
       "2      40010  2019      1    3   1543         Weekday  Austin-Forest Park   \n",
       "3      40010  2019      1    4   1621         Weekday  Austin-Forest Park   \n",
       "4      40010  2019      1    5    719        Saturday  Austin-Forest Park   \n",
       "\n",
       "                  location  \n",
       "0  (41.870851, -87.776812)  \n",
       "1  (41.870851, -87.776812)  \n",
       "2  (41.870851, -87.776812)  \n",
       "3  (41.870851, -87.776812)  \n",
       "4  (41.870851, -87.776812)  "
      ]
     },
     "execution_count": 9,
     "metadata": {},
     "output_type": "execute_result"
    }
   ],
   "source": [
    "ridership_cal_stations.head()"
   ]
  },
  {
   "cell_type": "code",
   "execution_count": 10,
   "metadata": {},
   "outputs": [
    {
     "name": "stdout",
     "output_type": "stream",
     "text": [
      "140005\n"
     ]
    }
   ],
   "source": [
    "# Merge the ridership, cal, and stations tables\n",
    "ridership_cal_stations = ridership.merge(cal, on=['year','month','day']) \\\n",
    "\t\t\t\t\t\t\t.merge(stations, on='station_id')\n",
    "\n",
    "# Create a filter to filter ridership_cal_stations\n",
    "filter_criteria = ((ridership_cal_stations['month'] == 7) \n",
    "                   & (ridership_cal_stations['day_type'] == \"Weekday\") \n",
    "                   & (ridership_cal_stations['station_name'] == \"Wilson\"))\n",
    "\n",
    "# Use .loc and the filter to select for rides\n",
    "print(ridership_cal_stations.loc[filter_criteria, 'rides'].sum())"
   ]
  },
  {
   "cell_type": "code",
   "execution_count": 14,
   "metadata": {},
   "outputs": [],
   "source": [
    "licenses = pd.read_pickle(\"datasets\\licenses.p\")"
   ]
  },
  {
   "cell_type": "code",
   "execution_count": 18,
   "metadata": {},
   "outputs": [],
   "source": [
    "zip_demo = pd.read_pickle(\"datasets\\zip_demo.p\")"
   ]
  },
  {
   "cell_type": "code",
   "execution_count": 16,
   "metadata": {},
   "outputs": [],
   "source": [
    "ward = pd.read_pickle(\"datasets\\ward.p\")"
   ]
  },
  {
   "cell_type": "code",
   "execution_count": 17,
   "metadata": {},
   "outputs": [
    {
     "data": {
      "text/html": [
       "<div>\n",
       "<style scoped>\n",
       "    .dataframe tbody tr th:only-of-type {\n",
       "        vertical-align: middle;\n",
       "    }\n",
       "\n",
       "    .dataframe tbody tr th {\n",
       "        vertical-align: top;\n",
       "    }\n",
       "\n",
       "    .dataframe thead th {\n",
       "        text-align: right;\n",
       "    }\n",
       "</style>\n",
       "<table border=\"1\" class=\"dataframe\">\n",
       "  <thead>\n",
       "    <tr style=\"text-align: right;\">\n",
       "      <th></th>\n",
       "      <th>account</th>\n",
       "      <th>ward</th>\n",
       "      <th>aid</th>\n",
       "      <th>business</th>\n",
       "      <th>address</th>\n",
       "      <th>zip</th>\n",
       "    </tr>\n",
       "  </thead>\n",
       "  <tbody>\n",
       "    <tr>\n",
       "      <td>0</td>\n",
       "      <td>307071</td>\n",
       "      <td>3</td>\n",
       "      <td>743</td>\n",
       "      <td>REGGIE'S BAR &amp; GRILL</td>\n",
       "      <td>2105 S STATE ST</td>\n",
       "      <td>60616</td>\n",
       "    </tr>\n",
       "    <tr>\n",
       "      <td>1</td>\n",
       "      <td>10</td>\n",
       "      <td>10</td>\n",
       "      <td>829</td>\n",
       "      <td>HONEYBEERS</td>\n",
       "      <td>13200 S HOUSTON AVE</td>\n",
       "      <td>60633</td>\n",
       "    </tr>\n",
       "    <tr>\n",
       "      <td>2</td>\n",
       "      <td>10002</td>\n",
       "      <td>14</td>\n",
       "      <td>775</td>\n",
       "      <td>CELINA DELI</td>\n",
       "      <td>5089 S ARCHER AVE</td>\n",
       "      <td>60632</td>\n",
       "    </tr>\n",
       "    <tr>\n",
       "      <td>3</td>\n",
       "      <td>10005</td>\n",
       "      <td>12</td>\n",
       "      <td>NaN</td>\n",
       "      <td>KRAFT FOODS NORTH AMERICA</td>\n",
       "      <td>2005 W 43RD ST</td>\n",
       "      <td>60609</td>\n",
       "    </tr>\n",
       "    <tr>\n",
       "      <td>4</td>\n",
       "      <td>10044</td>\n",
       "      <td>44</td>\n",
       "      <td>638</td>\n",
       "      <td>NEYBOUR'S TAVERN &amp; GRILLE</td>\n",
       "      <td>3651 N SOUTHPORT AVE</td>\n",
       "      <td>60613</td>\n",
       "    </tr>\n",
       "  </tbody>\n",
       "</table>\n",
       "</div>"
      ],
      "text/plain": [
       "  account ward  aid                   business               address    zip\n",
       "0  307071    3  743       REGGIE'S BAR & GRILL       2105 S STATE ST  60616\n",
       "1      10   10  829                 HONEYBEERS   13200 S HOUSTON AVE  60633\n",
       "2   10002   14  775                CELINA DELI     5089 S ARCHER AVE  60632\n",
       "3   10005   12  NaN  KRAFT FOODS NORTH AMERICA        2005 W 43RD ST  60609\n",
       "4   10044   44  638  NEYBOUR'S TAVERN & GRILLE  3651 N SOUTHPORT AVE  60613"
      ]
     },
     "execution_count": 17,
     "metadata": {},
     "output_type": "execute_result"
    }
   ],
   "source": [
    "licenses.head()"
   ]
  },
  {
   "cell_type": "markdown",
   "metadata": {},
   "source": [
    "## Three table merge\n",
    "To solidify the concept of a three DataFrame merge, practice another exercise. A reasonable extension of our review of Chicago business data would include looking at demographics information about the neighborhoods where the businesses are. A table with the median income by zip code has been provided to you. You will merge the licenses and wards tables with this new income-by-zip-code table called zip_demo.\n",
    "\n",
    "The licenses, wards, and zip_demo DataFrames have been loaded for you.\n",
    "\n",
    "- Starting with the licenses table, merge to it the zip_demo table on the zip column. Then merge the resulting table to the wards table on the ward column. Save result of the three merged tables to a variable named licenses_zip_ward.\n",
    "- Group the results of the three merged tables by the column alderman and find the median income."
   ]
  },
  {
   "cell_type": "code",
   "execution_count": 19,
   "metadata": {
    "scrolled": true
   },
   "outputs": [
    {
     "name": "stdout",
     "output_type": "stream",
     "text": [
      "                           income\n",
      "alderman                         \n",
      "Ameya Pawar                 66246\n",
      "Anthony A. Beale            38206\n",
      "Anthony V. Napolitano       82226\n",
      "Ariel E. Reyboras           41307\n",
      "Brendan Reilly             110215\n",
      "Brian Hopkins               87143\n",
      "Carlos Ramirez-Rosa         66246\n",
      "Carrie M. Austin            38206\n",
      "Chris Taliaferro            55566\n",
      "Daniel \"Danny\" Solis        41226\n",
      "David H. Moore              33304\n",
      "Deborah Mell                66246\n",
      "Debra L. Silverstein        50554\n",
      "Derrick G. Curtis           65770\n",
      "Edward M. Burke             42335\n",
      "Emma M. Mitts               36283\n",
      "George Cardenas             33959\n",
      "Gilbert Villegas            41307\n",
      "Gregory I. Mitchell         24941\n",
      "Harry Osterman              45442\n",
      "Howard B. Brookins, Jr.     33304\n",
      "James Cappleman             79565\n",
      "Jason C. Ervin              41226\n",
      "Joe Moore                   39163\n",
      "John S. Arena               70122\n",
      "Leslie A. Hairston          28024\n",
      "Margaret Laurino            70122\n",
      "Marty Quinn                 67045\n",
      "Matthew J. O'Shea           59488\n",
      "Michael R. Zalewski         42335\n",
      "Michael Scott, Jr.          31445\n",
      "Michelle A. Harris          32558\n",
      "Michelle Smith             100116\n",
      "Milagros \"Milly\" Santiago   41307\n",
      "Nicholas Sposato            62223\n",
      "Pat Dowell                  46340\n",
      "Patrick Daley Thompson      41226\n",
      "Patrick J. O'Connor         50554\n",
      "Proco \"Joe\" Moreno          87143\n",
      "Raymond A. Lopez            33959\n",
      "Ricardo Munoz               31445\n",
      "Roberto Maldonado           68223\n",
      "Roderick T. Sawyer          32558\n",
      "Scott Waguespack            68223\n",
      "Susan Sadlowski Garza       38417\n",
      "Tom Tunney                  88708\n",
      "Toni L. Foulkes             27573\n",
      "Walter Burnett, Jr.         87143\n",
      "William D. Burns           107811\n",
      "Willie B. Cochran           28024\n"
     ]
    }
   ],
   "source": [
    "# Merge licenses and zip_demo, on zip; and merge the wards on ward\n",
    "licenses_zip_ward = licenses.merge(zip_demo, on=\"zip\") \\\n",
    "            \t\t\t.merge(ward, on=\"ward\")\n",
    "\n",
    "# Print the results by alderman and show median income\n",
    "print(licenses_zip_ward.groupby(\"alderman\").agg({'income':'median'}))"
   ]
  },
  {
   "cell_type": "markdown",
   "metadata": {},
   "source": [
    "## One-to-many merge with multiple tables\n",
    "In this exercise, assume that you are looking to start a business in the city of Chicago. Your perfect idea is to start a company that uses goats to mow the lawn for other businesses. However, you have to choose a location in the city to put your goat farm. You need a location with a great deal of space and relatively few businesses and people around to avoid complaints about the smell. You will need to merge three tables to help you choose your location. The land_use table has info on the percentage of vacant land by city ward. The census table has population by ward, and the licenses table lists businesses by ward.\n",
    "\n",
    "The land_use, census, and licenses tables have been loaded for you below."
   ]
  },
  {
   "cell_type": "markdown",
   "metadata": {},
   "source": [
    "- Merge land_use and census on the ward column. Merge the result of this with licenses on the ward column, using the suffix _cen for the left table and _lic for the right table. Save this to the variable land_cen_lic.\n",
    "- Group land_cen_lic by ward, pop_2010 (the population in 2010), and vacant, then count the number of accounts. Save the results to pop_vac_lic.\n",
    "- Sort pop_vac_lic by vacant, account, andpop_2010 in descending, ascending, and ascending order respectively. Save it as sorted_pop_vac_lic"
   ]
  },
  {
   "cell_type": "code",
   "execution_count": 20,
   "metadata": {},
   "outputs": [],
   "source": [
    "land_use = pd.read_pickle(\"datasets\\land_use.p\")"
   ]
  },
  {
   "cell_type": "code",
   "execution_count": 21,
   "metadata": {},
   "outputs": [],
   "source": [
    "census= pd.read_pickle(\"datasets\\census.p\")"
   ]
  },
  {
   "cell_type": "code",
   "execution_count": 22,
   "metadata": {},
   "outputs": [],
   "source": [
    "licenses = pd.read_pickle(\"datasets\\licenses.p\")"
   ]
  },
  {
   "cell_type": "code",
   "execution_count": 23,
   "metadata": {},
   "outputs": [],
   "source": [
    "# Merge land_use and census and merge result with licenses including suffixes\n",
    "land_cen_lic = land_use.merge(census, on='ward') \\\n",
    "                    .merge(licenses, on='ward', suffixes=('_cen','_lic'))\n"
   ]
  },
  {
   "cell_type": "code",
   "execution_count": 24,
   "metadata": {},
   "outputs": [],
   "source": [
    "# Group by ward, pop_2010, and vacant, then count the # of accounts\n",
    "pop_vac_lic = land_cen_lic.groupby(['ward','pop_2010','vacant'], \n",
    "                                   as_index=False).agg({'account':'count'})"
   ]
  },
  {
   "cell_type": "code",
   "execution_count": 25,
   "metadata": {},
   "outputs": [
    {
     "name": "stdout",
     "output_type": "stream",
     "text": [
      "   ward  pop_2010  vacant  account\n",
      "47    7     51581      19       80\n",
      "12   20     52372      15      123\n",
      "1    10     51535      14      130\n",
      "16   24     54909      13       98\n",
      "7    16     51954      13      156\n"
     ]
    }
   ],
   "source": [
    "# Sort pop_vac_lic and print the results\n",
    "sorted_pop_vac_lic = pop_vac_lic.sort_values([\"vacant\", \"account\", \"pop_2010\"],ascending=[False, True, True])\n",
    "\n",
    "# Print the top few rows of sorted_pop_vac_lic\n",
    "print(sorted_pop_vac_lic.head())"
   ]
  }
 ],
 "metadata": {
  "kernelspec": {
   "display_name": "Python 3",
   "language": "python",
   "name": "python3"
  },
  "language_info": {
   "codemirror_mode": {
    "name": "ipython",
    "version": 3
   },
   "file_extension": ".py",
   "mimetype": "text/x-python",
   "name": "python",
   "nbconvert_exporter": "python",
   "pygments_lexer": "ipython3",
   "version": "3.7.4"
  }
 },
 "nbformat": 4,
 "nbformat_minor": 4
}
