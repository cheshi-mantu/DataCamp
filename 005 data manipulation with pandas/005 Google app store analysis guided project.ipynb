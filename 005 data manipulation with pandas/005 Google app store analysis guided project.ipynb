{
 "cells": [
  {
   "cell_type": "markdown",
   "metadata": {},
   "source": [
    "# Task 1: Instructions\n",
    "Import the data, drop duplicate rows, and inspect the data.\n",
    "\n",
    "Load datasets/apps.csv into a DataFrame and assign it to the variable apps_with_duplicates.\n",
    "\n",
    "Drop all duplicate rows from apps_with_duplicates using drop_duplicates() function and assign the result to apps.\n",
    "\n",
    "Print the total number of apps in apps.\n",
    "\n",
    "Print a concise summary of apps using the info() function. Which columns have missing (null) values?\n",
    "Make a note of the 4 columns that have missing values: Rating, Size, Current Ver, Android Ver.\n",
    "We will deal with this later in Task #5.\n",
    "\n",
    "Finally, use the sample() method to display a random sample of 5 rows from apps."
   ]
  },
  {
   "cell_type": "markdown",
   "metadata": {},
   "source": [
    "Good to know\n",
    "This project lets you apply the skills from Data Manipulation with pandas. We recommend that you take this course before starting this project.\n",
    "\n",
    "The data for this project was scraped from the Google Play website. While there are many popular datasets for Apple App Store, there aren't many for Google Play apps, which is partially due to the increased difficulty in scraping the latter as compared to the former.\n",
    "\n",
    "A good practice is to always use the <a href=\"https://pandas.pydata.org/pandas-docs/stable/reference/api/pandas.DataFrame.info.html\">info() </a>documentation function on your dataframe before beginning any analysis. This method prints information about the dataframe including the column data types, non-null values and memory usage.\n",
    "\n",
    "Helpful links:\n",
    "\n",
    "pandas <a href=\"https://pandas.pydata.org/pandas-docs/version/0.17.0/generated/pandas.read_csv.html\">read_csv() </a>documentation\n",
    "pandas <a href=\"https://pandas.pydata.org/pandas-docs/version/0.17/generated/pandas.DataFrame.drop_duplicates.html\">drop_duplicates() </a>documentation\n",
    "Note: This project also uses the plotting libraries <a href=\"https://seaborn.pydata.org/\">Seaborn</a> and <a href=\"https://plotly.com/python/\">Plotly </a>to help visualize the results of some steps. However, the tasks have been written in such a way that you should be able to complete them without any prior experience."
   ]
  },
  {
   "cell_type": "markdown",
   "metadata": {},
   "source": [
    "# Task 2: Instructions\n",
    "Clean the dataset.\n",
    "\n",
    "- Create a list named chars_to_remove that contains the chars + , and $.\n",
    "- Create a list named cols_to_clean that contains the following strings of column names: Installs and Price.\n",
    "- For each column in cols_to_clean in the apps DataFrame, replace each character in chars_to_remove with the empty string ''.\n",
    "- Note: Make sure to use an empty string '' and not a space character ' '\n",
    "- Convert each column series apps[col] to a numeric data type using the pandas to_numeric() function."
   ]
  },
  {
   "cell_type": "markdown",
   "metadata": {},
   "source": [
    "Helpful links:\n",
    "\n",
    "<a href=\"https://pandas.pydata.org/pandas-docs/stable/reference/api/pandas.to_numeric.html\">to_numeric() documentation</a>"
   ]
  },
  {
   "cell_type": "markdown",
   "metadata": {},
   "source": [
    "# Task 3: Instructions\n",
    "- Create data for a bar chart that shows the distribution of apps across different categories.\n",
    "\n",
    "- Apply the unique() function on apps['Category'] to find the number of unique app categories.\n",
    "- To count the number of apps in each category, apply the value_counts() function on apps['Category']. Then sort these counts in descending order using pandas sort_values() method and set the ascending flag to False"
   ]
  },
  {
   "cell_type": "markdown",
   "metadata": {},
   "source": [
    "- <a href=\"\">unique() documentation</a>\n",
    "- <a href=\"\">value_counts() documentation</a>\n",
    "- <a href=\"\">sort_values() documentation</a>"
   ]
  },
  {
   "cell_type": "markdown",
   "metadata": {},
   "source": [
    "# Task 4: Instructions\n",
    "- Create a plot annotation for average app rating.\n",
    "- Find the average app rating and assign it to avg_app_rating.\n",
    "\n",
    "<a href=\"https://pandas.pydata.org/pandas-docs/stable/reference/api/pandas.Series.mean.html\">mean() documentation</a>\n",
    "\n",
    "<a href=\"https://plot.ly/python/histograms/\">Plotly histogram documentation</a>"
   ]
  },
  {
   "cell_type": "markdown",
   "metadata": {},
   "source": [
    "# Task 5: Instructions\n",
    "Examine the relationship between size, price, and rating of apps using jointplot().\n",
    "\n",
    "Recall from Task #1 that we had observed some missing values in the Rating and Size columns. To make rational decisions, it is important that we do not consider these missing values in our analysis. We will work with a subset apps_with_size_and_rating_present DataFrame for this task.\n",
    "\n",
    "- Select rows from apps where Rating is not null and Size is not null. Notice the use of ~ for NOT operation and the bitwise operator & to AND the two conditions. Store the result in the apps_with_size_and_rating_present dataframe.\n",
    "- Apply the groupby function on apps_with_size_and_rating_present['Category']. Using filter() function, select only those groups or categories having greater than or equal to 250 apps. Assign the result to large_categories dataframe.\n",
    "- Fill out x and y to create a joint plot of Rating as a function of Size.\n",
    "- Subset apps_with_size_and_rating_present dataframe to select apps of type Paid. Assign the result to paid_apps dataframe.\n",
    "- Fill out x and y to create a joint plot of Rating as a function of Price.\n",
    "\n",
    "<a href=\"https://seaborn.pydata.org/generated/seaborn.jointplot.html\">jointplot() documentation</a>"
   ]
  },
  {
   "cell_type": "markdown",
   "metadata": {},
   "source": [
    "# Task 6: Instructions\n",
    "Use a strip plot to visualize the distribution of paid apps across different categories.\n",
    "\n",
    "- Plot a strip plot with x-axis extending along the Price range and y-axis depicting the Category.\n",
    "- Print Category, App and Price for apps that are priced above 200.\n",
    "\n",
    "Here are some interesting websites that can estimate app price:\n",
    "\n",
    "- <a href=\"https://estimatemyapp.com/\">Estimate my app</a>\n",
    "- <a href=\"http://howmuchtomakeanapp.com/\"> How much to make an app</a>\n",
    "\n",
    "- <a href=\"https://seaborn.pydata.org/generated/seaborn.stripplot.html\">stripplot() documentation</a>"
   ]
  },
  {
   "cell_type": "markdown",
   "metadata": {},
   "source": [
    "# Task 7: Instructions\n",
    "Filter out \"junk\" apps.\n",
    "Note: For simplicity, we will continue to use the popular_app_cats dataframe (from previous task) and not our original dataframe apps\n",
    "\n",
    "- Select rows from popular_app_cats that contain apps priced below $100 and assign it to apps_under_100.\n",
    "- Re-plot your strip plot using apps_under_100."
   ]
  },
  {
   "cell_type": "markdown",
   "metadata": {},
   "source": [
    "# Task 8: Instructions\n",
    "Prep the data for a box plot that compares the number of installs of paid apps vs. number of installs of free apps.\n",
    "\n",
    "- From apps, filter rows where for Type == Paid, and select the Installs column and assign it to y of trace0.\n",
    "- From apps, filter rows where for Type == Free, and select the Installs column and assign it to y of trace1.\n",
    "- Create a Python list containing variables trace0 and trace1.\n",
    "- - Helpful links:\n",
    "\n",
    "<a href=\"https://plot.ly/python/box-plots/\">Plotly box plot documentation</a>\n",
    "\n",
    "<a href=\"https://www.wellbeingatschool.org.nz/information-sheet/understanding-and-interpreting-box-plots\">Interpreting box plots article</a>"
   ]
  },
  {
   "cell_type": "markdown",
   "metadata": {},
   "source": [
    "# Task 9: Instructions\n",
    "Load the user review data and plot it to visualize sentiment of paid vs. free apps.\n",
    "\n",
    "- Read datasets/user_reviews.csv into the reviews_df DataFrame.\n",
    "- Merge apps and reviews_df DataFrames on the common column App and assign the result to merged_df.\n",
    "- Create a box plot with Type on the x-axis and Sentiment_Polarity on the y-axis.\n",
    "\n",
    "<a href=\"https://pandas.pydata.org/pandas-docs/stable/generated/pandas.DataFrame.merge.html\">pandas merge() function documentation</a>\n",
    "\n",
    "<a href=\"https://seaborn.pydata.org/generated/seaborn.boxplot.html\">boxplot() documentation</a>\n"
   ]
  }
 ],
 "metadata": {
  "kernelspec": {
   "display_name": "Python 3",
   "language": "python",
   "name": "python3"
  },
  "language_info": {
   "codemirror_mode": {
    "name": "ipython",
    "version": 3
   },
   "file_extension": ".py",
   "mimetype": "text/x-python",
   "name": "python",
   "nbconvert_exporter": "python",
   "pygments_lexer": "ipython3",
   "version": "3.7.7"
  }
 },
 "nbformat": 4,
 "nbformat_minor": 4
}
