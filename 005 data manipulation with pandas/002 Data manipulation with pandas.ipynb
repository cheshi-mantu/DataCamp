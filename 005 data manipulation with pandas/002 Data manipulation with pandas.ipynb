{
 "cells": [
  {
   "cell_type": "code",
   "execution_count": 2,
   "metadata": {},
   "outputs": [],
   "source": [
    "import bz2"
   ]
  },
  {
   "cell_type": "code",
   "execution_count": 4,
   "metadata": {},
   "outputs": [],
   "source": [
    "import pickle"
   ]
  },
  {
   "cell_type": "code",
   "execution_count": 5,
   "metadata": {},
   "outputs": [],
   "source": [
    "import pandas as pd"
   ]
  },
  {
   "cell_type": "code",
   "execution_count": 24,
   "metadata": {},
   "outputs": [],
   "source": [
    "sales = pd.DataFrame()"
   ]
  },
  {
   "cell_type": "code",
   "execution_count": 25,
   "metadata": {},
   "outputs": [],
   "source": [
    "archived = bz2.BZ2File(\"walmart_sales.pkl.bz2\", \"r\")"
   ]
  },
  {
   "cell_type": "code",
   "execution_count": 26,
   "metadata": {},
   "outputs": [],
   "source": [
    "sales = pickle.load(archived)"
   ]
  },
  {
   "cell_type": "code",
   "execution_count": 27,
   "metadata": {},
   "outputs": [
    {
     "name": "stdout",
     "output_type": "stream",
     "text": [
      "<class 'pandas.core.frame.DataFrame'>\n",
      "Int64Index: 413119 entries, 0 to 413118\n",
      "Data columns (total 9 columns):\n",
      "store                   413119 non-null int64\n",
      "type                    413119 non-null object\n",
      "department              413119 non-null int32\n",
      "date                    413119 non-null datetime64[ns]\n",
      "weekly_sales            413119 non-null float64\n",
      "is_holiday              413119 non-null bool\n",
      "temperature_c           413119 non-null float64\n",
      "fuel_price_usd_per_l    413119 non-null float64\n",
      "unemployment            413119 non-null float64\n",
      "dtypes: bool(1), datetime64[ns](1), float64(4), int32(1), int64(1), object(1)\n",
      "memory usage: 27.2+ MB\n"
     ]
    }
   ],
   "source": [
    "sales.info()"
   ]
  },
  {
   "cell_type": "markdown",
   "metadata": {},
   "source": [
    "## Mean and median\n",
    "Summary statistics are exactly what they sound like - they summarize many numbers in one statistic. For example, mean, median, minimum, maximum, and standard deviation are summary statistics. Calculating summary statistics allows you to get a better sense of your daExplore your new DataFrame first by printing the first few rows of the sales DataFrame.\n",
    "\n",
    "- Print information about the columns in sales.\n",
    "- Print the mean of the weekly_sales column.\n",
    "- Print the median of the weekly_sales column.ta, even if there's a lot of it.\n",
    "\n"
   ]
  },
  {
   "cell_type": "code",
   "execution_count": 28,
   "metadata": {},
   "outputs": [
    {
     "name": "stdout",
     "output_type": "stream",
     "text": [
      "   store type  department       date  weekly_sales  is_holiday  temperature_c  \\\n",
      "0      1    A           1 2010-02-05      24924.50       False       5.727778   \n",
      "1      1    A           2 2010-02-05      50605.27       False       5.727778   \n",
      "2      1    A           3 2010-02-05      13740.12       False       5.727778   \n",
      "3      1    A           4 2010-02-05      39954.04       False       5.727778   \n",
      "4      1    A           5 2010-02-05      32229.38       False       5.727778   \n",
      "\n",
      "   fuel_price_usd_per_l  unemployment  \n",
      "0              0.679451         8.106  \n",
      "1              0.679451         8.106  \n",
      "2              0.679451         8.106  \n",
      "3              0.679451         8.106  \n",
      "4              0.679451         8.106  \n",
      "<class 'pandas.core.frame.DataFrame'>\n",
      "Int64Index: 413119 entries, 0 to 413118\n",
      "Data columns (total 9 columns):\n",
      "store                   413119 non-null int64\n",
      "type                    413119 non-null object\n",
      "department              413119 non-null int32\n",
      "date                    413119 non-null datetime64[ns]\n",
      "weekly_sales            413119 non-null float64\n",
      "is_holiday              413119 non-null bool\n",
      "temperature_c           413119 non-null float64\n",
      "fuel_price_usd_per_l    413119 non-null float64\n",
      "unemployment            413119 non-null float64\n",
      "dtypes: bool(1), datetime64[ns](1), float64(4), int32(1), int64(1), object(1)\n",
      "memory usage: 27.2+ MB\n",
      "None\n",
      "16094.726811185497\n",
      "7682.47\n"
     ]
    }
   ],
   "source": [
    "# Print the head of the sales DataFrame\n",
    "print(sales.head())\n",
    "\n",
    "# Print the info about the sales DataFrame\n",
    "print(sales.info())\n",
    "\n",
    "# Print the mean of weekly_sales\n",
    "print(sales.weekly_sales.mean())\n",
    "\n",
    "# Print the median of weekly_sales\n",
    "print(sales.weekly_sales.median())"
   ]
  },
  {
   "cell_type": "markdown",
   "metadata": {},
   "source": [
    "## Summarizing dates\n",
    "Summary statistics can also be calculated on date columns which have values with the data type datetime64. Some summary statistics — like mean — don't make a ton of sense on dates, but others are super helpful, for example minimum and maximum, which allow you to see what time range your data covers.\n",
    "\n",
    "- Print the maximum of the date column.\n",
    "- Print the minimum of the date column."
   ]
  },
  {
   "cell_type": "code",
   "execution_count": 29,
   "metadata": {},
   "outputs": [
    {
     "name": "stdout",
     "output_type": "stream",
     "text": [
      "2012-10-26 00:00:00\n",
      "2010-02-05 00:00:00\n"
     ]
    }
   ],
   "source": [
    "# Print the maximum of the date column\n",
    "print(sales.date.max())\n",
    "\n",
    "# Print the minimum of the date column\n",
    "print(sales.date.min())"
   ]
  },
  {
   "cell_type": "code",
   "execution_count": null,
   "metadata": {},
   "outputs": [],
   "source": [
    "# A custom IQR function\n",
    "def iqr(column):\n",
    "    return column.quantile(0.75) - column.quantile(0.25)\n",
    "\n",
    "# Update to print IQR of temperature_c, fuel_price_usd_per_l, & unemployment\n",
    "print(sales[\"temperature_c\"].agg(iqr))"
   ]
  },
  {
   "cell_type": "code",
   "execution_count": null,
   "metadata": {},
   "outputs": [],
   "source": [
    "# A custom IQR function\n",
    "def iqr(column):\n",
    "    return column.quantile(0.75) - column.quantile(0.25)\n",
    "\n",
    "# Update to print IQR of temperature_c, fuel_price_usd_per_l, & unemployment\n",
    "print(sales[[\"temperature_c\", \"fuel_price_usd_per_l\",\"unemployment\"]].agg(iqr))"
   ]
  },
  {
   "cell_type": "code",
   "execution_count": null,
   "metadata": {},
   "outputs": [],
   "source": [
    "# Import NumPy and create custom IQR function\n",
    "import numpy as np\n",
    "def iqr(column):\n",
    "    return column.quantile(0.75) - column.quantile(0.25)\n",
    "\n",
    "# Update to print IQR and median of temperature_c, fuel_price_usd_per_l, & unemployment\n",
    "print(sales[[\"temperature_c\", \"fuel_price_usd_per_l\", \"unemployment\"]].agg([iqr, np.median]))"
   ]
  },
  {
   "cell_type": "markdown",
   "metadata": {},
   "source": [
    "## Cumulative statistics\n",
    "Cumulative statistics can also be helpful in tracking summary statistics over time. In this exercise, you'll calculate the cumulative sum and cumulative max of a department's weekly sales, which will allow you to identify what the total sales were so far as well as what the highest weekly sales were so far.\n",
    "\n",
    "A DataFrame called sales_1_1 has been created for you, which contains the sales data for department 1 of store 1. pandas is loaded as pd.\n",
    "\n",
    "- Sort the rows of sales_1_1 by the date column in ascending order.\n",
    "- Get the cumulative sum of weekly_sales and add it as a new column of sales_1_1 called cum_weekly_sales.\n",
    "- Get the cumulative maximum of weekly_sales, and add it as a column called cum_max_sales.\n",
    "- Print the date, weekly_sales, cum_weekly_sales, and cum_max_sales columns."
   ]
  },
  {
   "cell_type": "code",
   "execution_count": null,
   "metadata": {},
   "outputs": [],
   "source": [
    "# Sort sales_1_1 by date\n",
    "sales_1_1 = sales_1_1.sort_values(\"date\",ascending = True) \n",
    "\n",
    "# Get the cumulative sum of weekly_sales, add as cum_weekly_sales col\n",
    "sales_1_1[____] = ____\n",
    "\n",
    "# Get the cumulative max of weekly_sales, add as cum_max_sales col\n",
    "____\n",
    "\n",
    "# See the columns you calculated\n",
    "print(sales_1_1[[\"date\", \"weekly_sales\", \"cum_weekly_sales\", \"cum_max_sales\"]])"
   ]
  },
  {
   "cell_type": "code",
   "execution_count": null,
   "metadata": {},
   "outputs": [],
   "source": []
  },
  {
   "cell_type": "code",
   "execution_count": null,
   "metadata": {},
   "outputs": [],
   "source": []
  },
  {
   "cell_type": "code",
   "execution_count": null,
   "metadata": {},
   "outputs": [],
   "source": []
  },
  {
   "cell_type": "code",
   "execution_count": null,
   "metadata": {},
   "outputs": [],
   "source": []
  }
 ],
 "metadata": {
  "kernelspec": {
   "display_name": "Python 3",
   "language": "python",
   "name": "python3"
  },
  "language_info": {
   "codemirror_mode": {
    "name": "ipython",
    "version": 3
   },
   "file_extension": ".py",
   "mimetype": "text/x-python",
   "name": "python",
   "nbconvert_exporter": "python",
   "pygments_lexer": "ipython3",
   "version": "3.7.4"
  }
 },
 "nbformat": 4,
 "nbformat_minor": 2
}
